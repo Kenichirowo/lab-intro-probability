{
 "cells": [
  {
   "cell_type": "markdown",
   "metadata": {},
   "source": [
    "# Lab | Intro to Probability"
   ]
  },
  {
   "cell_type": "markdown",
   "metadata": {},
   "source": [
    "**Objective**\n",
    "\n",
    "Welcome to this Intro to Probability lab, where we explore decision-making scenarios through the lens of probability and strategic analysis. In the business world, making informed decisions is crucial, especially when faced with uncertainties. This lab focuses on scenarios where probabilistic outcomes play a significant role in shaping strategies and outcomes. Students will engage in exercises that require assessing and choosing optimal paths based on data-driven insights. The goal is to enhance your skills by applying probability concepts to solve real-world problems."
   ]
  },
  {
   "cell_type": "markdown",
   "metadata": {},
   "source": [
    "**Challenge 1**"
   ]
  },
  {
   "cell_type": "markdown",
   "metadata": {},
   "source": [
    "#### Ironhack Airlines \n",
    "\n",
    "Often Airlines sell more tickets than they have seats available, this is called overbooking. Consider the following:\n",
    "- A plane has 450 seats. \n",
    "- Based on historical data we conclude that each individual passenger has a 3% chance of missing it's flight. \n",
    "\n",
    "If the Ironhack Airlines routinely sells 460 tickets, what is the chance that they have a seats for all passenger?"
   ]
  },
  {
   "cell_type": "code",
   "execution_count": 2,
   "metadata": {},
   "outputs": [
    {
     "name": "stdout",
     "output_type": "stream",
     "text": [
      "The probability that all passengers have seats is: 0.8845\n"
     ]
    }
   ],
   "source": [
    "#code here\n",
    "from scipy.stats import binom\n",
    "\n",
    "n = 460 # Number of tickets sold \n",
    "p = 0.97 #probability of a passenger showing up\n",
    "\n",
    "probability = binom.cdf(450, n, p) # cumulative probability of 450 or fewer passengers showing up\n",
    "\n",
    "print(f\"The probability that all passengers have seats is: {probability:.4f}\")"
   ]
  },
  {
   "cell_type": "markdown",
   "metadata": {},
   "source": [
    "**Challenge 2**"
   ]
  },
  {
   "cell_type": "markdown",
   "metadata": {},
   "source": [
    "#### Ironhack Call Center "
   ]
  },
  {
   "cell_type": "markdown",
   "metadata": {},
   "source": [
    "Suppose a customer service representative at a call center is handling customer complaints. Consider the following:\n",
    "- The probability of successfully resolving a customer complaint on the first attempt is 0.3. \n",
    "\n",
    "\n",
    "What is the probability that the representative needs to make at least three attempts before successfully resolving a customer complaint?"
   ]
  },
  {
   "cell_type": "markdown",
   "metadata": {},
   "source": [
    "Victor notes:\n",
    "\n",
    "The **Geometric distribution** is a discrete probability distribution that models the number of\n",
    "trials needed to achieve the first success in a sequence of independent trials.\n",
    "\n",
    "**The Geometric counts the number of trials**"
   ]
  },
  {
   "cell_type": "code",
   "execution_count": 3,
   "metadata": {},
   "outputs": [
    {
     "name": "stdout",
     "output_type": "stream",
     "text": [
      "The probability that at least three attempts are needed: 0.4900\n"
     ]
    }
   ],
   "source": [
    "#code here\n",
    "from scipy.stats import geom\n",
    "\n",
    "p = 0.3 # Probability of success\n",
    "\n",
    "# Probability of needing at least 3 attempts:  P(X >= 3) = 1 - P(X < 3) = 1 - P(X <= 2)\n",
    "# Remember that we want to measure the probability of having more than 3 attempts this means that \n",
    "\n",
    "probability = 1 - geom.cdf(2, p)\n",
    "\n",
    "print(f\"The probability that at least three attempts are needed: {probability:.4f}\")"
   ]
  },
  {
   "cell_type": "markdown",
   "metadata": {},
   "source": [
    "**Challenge 3**"
   ]
  },
  {
   "cell_type": "markdown",
   "metadata": {},
   "source": [
    "#### Ironhack Website"
   ]
  },
  {
   "cell_type": "markdown",
   "metadata": {},
   "source": [
    "Consider a scenario related to Ironhack website traffic. Where:\n",
    "- our website takes on average 500 visits per hour.\n",
    "- the website's server is designed to handle up to 550 vists per hour.\n",
    "\n",
    "\n",
    "What is the probability of the website server being overwhelmed?"
   ]
  },
  {
   "cell_type": "markdown",
   "metadata": {},
   "source": [
    "Victor notes:\n",
    "\n",
    "The **Poisson distribution** is a discrete probability distribution that expresses the probability of a\n",
    "given number of events occurring in a fixed interval of time or space. \n",
    "\n",
    "In other words, you have an expectation of how many times an event happens in a time interval. \n",
    "\n",
    "The Poisson counts how many events actually happen in that interval."
   ]
  },
  {
   "cell_type": "code",
   "execution_count": 4,
   "metadata": {},
   "outputs": [
    {
     "name": "stdout",
     "output_type": "stream",
     "text": [
      "The probability of the server being overwhelmed is: 0.0129\n"
     ]
    }
   ],
   "source": [
    "#code here\n",
    "from scipy.stats import poisson\n",
    "\n",
    "lambda_ = 500 # Average number of visits per hour\n",
    "\n",
    "probability = 1 - poisson.cdf(550, lambda_) # probability of the server being overwhelmed\n",
    "\n",
    "print(f\"The probability of the server being overwhelmed is: {probability:.4f}\")"
   ]
  },
  {
   "cell_type": "markdown",
   "metadata": {},
   "source": [
    "What is the probability of being overwhelmed at some point during a day? (consider 24hours)"
   ]
  },
  {
   "cell_type": "code",
   "execution_count": 5,
   "metadata": {},
   "outputs": [
    {
     "name": "stdout",
     "output_type": "stream",
     "text": [
      "The probability of being overwhelmed at least once during the day is: 0.2677\n"
     ]
    }
   ],
   "source": [
    "#code here\n",
    "lambda_ = 500 # Average number of visits per hour\n",
    "\n",
    "p_overwhelmed = 1 - poisson.cdf(550, lambda_) # Probability of server being overwhelmed in one hour\n",
    "\n",
    "p_not_overwhelmed = 1 - p_overwhelmed # Probability of not being overwhelmed in one hour\n",
    "\n",
    "p_not_overwhelmed_24_hours = p_not_overwhelmed**24 # Probability of not being overwhelmed at all in 24 hours\n",
    "\n",
    "p_overwhelmed_24_hours = 1 - p_not_overwhelmed_24_hours # Probability of being overwhelmed at least once in 24 hours\n",
    "\n",
    "print(f\"The probability of being overwhelmed at least once during the day is: {p_overwhelmed_24_hours:.4f}\")"
   ]
  },
  {
   "cell_type": "markdown",
   "metadata": {},
   "source": [
    "**Challenge 4**"
   ]
  },
  {
   "cell_type": "markdown",
   "metadata": {},
   "source": [
    "#### Ironhack Helpdesk"
   ]
  },
  {
   "cell_type": "markdown",
   "metadata": {},
   "source": [
    "Consider a scenario related to the time between arrivals of customers at a service desk.\n",
    "\n",
    "On average, a customers arrives every 10minutes.\n",
    "\n",
    "What is the probability that the next customer will arrive within the next 5 minutes?"
   ]
  },
  {
   "cell_type": "markdown",
   "metadata": {},
   "source": [
    "Victor notes:\n",
    "\n",
    "The **Exponential Distribution** is a way to model the time between events that happen one after another, independently, and at a constant average rate.\n",
    "\n",
    "In other words, we anticipate a certain number of events occurring within a given time, and the exponential distribution helps measure the time it takes to observe a single event.\n",
    "\n",
    "The Exponential Distribution is characterized by a single parameter, often denoted as A (lambda). This parameter represents the **rate of events occurring per unit time**."
   ]
  },
  {
   "cell_type": "code",
   "execution_count": 9,
   "metadata": {},
   "outputs": [
    {
     "name": "stdout",
     "output_type": "stream",
     "text": [
      "The probability that the next customer arrives within 5 minutes is: 0.3935\n"
     ]
    }
   ],
   "source": [
    "from scipy.stats import expon\n",
    "\n",
    "lambda_ = 1 / 10 # Rate parameter (per minute)\n",
    "\n",
    "x = 5 # Target time (in minutes)\n",
    "\n",
    "probability = expon.cdf(x, scale=1/lambda_) # Using the CDF of the exponential distribution to find the probability\n",
    "\n",
    "print(f\"The probability that the next customer arrives within 5 minutes is: {probability:.4f}\")"
   ]
  },
  {
   "cell_type": "code",
   "execution_count": 12,
   "metadata": {},
   "outputs": [
    {
     "name": "stdout",
     "output_type": "stream",
     "text": [
      "The probability that the next customer arrives within 5 minutes is: 0.3935\n"
     ]
    }
   ],
   "source": [
    "# we can do the same calculation this way:\n",
    "import numpy as np\n",
    "\n",
    "# Rate parameter (per minute)\n",
    "lambda_ = 1 / 10\n",
    "\n",
    "# Target time (in minutes)\n",
    "x = 5\n",
    "\n",
    "# Probability calculation using the CDF of the exponential distribution\n",
    "probability = 1 - np.exp(-lambda_ * x)\n",
    "\n",
    "print(f\"The probability that the next customer arrives within 5 minutes is: {probability:.4f}\")"
   ]
  },
  {
   "cell_type": "markdown",
   "metadata": {},
   "source": [
    "If there is no customer for 15minutes, employees can that a 5minutes break.\n",
    "\n",
    "What is the probability an employee taking a break?"
   ]
  },
  {
   "cell_type": "code",
   "execution_count": 13,
   "metadata": {},
   "outputs": [
    {
     "name": "stdout",
     "output_type": "stream",
     "text": [
      "The probability of no customer arriving in 15 minutes (and taking a break) is: 0.2231\n"
     ]
    }
   ],
   "source": [
    "mean_time = 10 # Mean time between arrivals\n",
    "\n",
    "lambda_ = 1 / mean_time # Rate parameter (lambda is the inverse of the mean time)\n",
    "\n",
    "time_threshold = 15 # Target time for no arrivals (in minutes)\n",
    "\n",
    "probability_no_arrival = 1 - expon.cdf(time_threshold, scale=1/lambda_) # Calculate the probability using the complement of the CDF\n",
    "\n",
    "print(f\"The probability of no customer arriving in 15 minutes (and taking a break) is: {probability_no_arrival:.4f}\")"
   ]
  },
  {
   "cell_type": "markdown",
   "metadata": {},
   "source": [
    "**Challenge 5**"
   ]
  },
  {
   "cell_type": "markdown",
   "metadata": {},
   "source": [
    "The weights of a certain species of birds follow a normal distribution with a mean weight of 150 grams and a standard deviation of 10 grams. \n",
    "\n",
    "- If we randomly select a bird, what is the probability that its weight is between 140 and 160 grams?"
   ]
  },
  {
   "cell_type": "markdown",
   "metadata": {},
   "source": [
    "Victor notes:\n",
    "\n",
    "The **Normal Distribution (Gaussian Distribution)**, is commonly used to model continuous random variables because it accurately represents the natural symmetry and tendency to cluster around an average.\n",
    "This distribution reflects common patterns found in many different areas.\n",
    "\n",
    "The Normal Distribution is characterized by two parameters, the **mean** (mu), which represents the central location or average of the distribution, and the **standard deviation** (sigma), which indicates the spread or dispersion of the data around the mean."
   ]
  },
  {
   "cell_type": "code",
   "execution_count": 14,
   "metadata": {},
   "outputs": [
    {
     "name": "stdout",
     "output_type": "stream",
     "text": [
      "The probability that a bird weighs between 140 and 160 grams is: 0.6827\n"
     ]
    }
   ],
   "source": [
    "#code here\n",
    "from scipy.stats import norm\n",
    "\n",
    "# Define the parameters of the normal distribution:\n",
    "mu = 150  # mean\n",
    "sigma = 10  # standard deviation\n",
    "\n",
    "prob_160 = norm.cdf(160, loc=mu, scale=sigma) # Calculate the CDF for 160 grams\n",
    "\n",
    "prob_140 = norm.cdf(140, loc=mu, scale=sigma) # Calculate the CDF for 140 grams\n",
    "\n",
    "probability = prob_160 - prob_140 # Probability of a bird weighing between 140 and 160 grams\n",
    "\n",
    "print(f\"The probability that a bird weighs between 140 and 160 grams is: {probability:.4f}\")"
   ]
  },
  {
   "cell_type": "markdown",
   "metadata": {},
   "source": [
    "**Challenge 6**"
   ]
  },
  {
   "cell_type": "markdown",
   "metadata": {},
   "source": [
    "If the lifetime (in hours) of a certain electronic component follows an exponential distribution with a mean lifetime of 50 hours, what is the probability that the component fails within the first 30 hours?"
   ]
  },
  {
   "cell_type": "markdown",
   "metadata": {},
   "source": [
    "**Exponential Distribution**"
   ]
  },
  {
   "cell_type": "code",
   "execution_count": 15,
   "metadata": {},
   "outputs": [
    {
     "name": "stdout",
     "output_type": "stream",
     "text": [
      "The probability that the component fails within the first 30 hours is: 0.4512\n"
     ]
    }
   ],
   "source": [
    "#code here\n",
    "\n",
    "mean_lifetime = 50 # Mean lifetime\n",
    "\n",
    "lambda_ = 1 / mean_lifetime # Rate parameter (lambda is the inverse of the mean lifetime)\n",
    "\n",
    "time_threshold = 30 # Time threshold (30 hours)\n",
    "\n",
    "probability = expon.cdf(time_threshold, scale=1/lambda_) #  probability using the CDF of the exponential distribution\n",
    "\n",
    "print(f\"The probability that the component fails within the first 30 hours is: {probability:.4f}\")"
   ]
  }
 ],
 "metadata": {
  "kernelspec": {
   "display_name": "Python 3 (ipykernel)",
   "language": "python",
   "name": "python3"
  },
  "language_info": {
   "codemirror_mode": {
    "name": "ipython",
    "version": 3
   },
   "file_extension": ".py",
   "mimetype": "text/x-python",
   "name": "python",
   "nbconvert_exporter": "python",
   "pygments_lexer": "ipython3",
   "version": "3.12.7"
  }
 },
 "nbformat": 4,
 "nbformat_minor": 4
}
